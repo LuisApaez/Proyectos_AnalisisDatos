{
 "cells": [
  {
   "cell_type": "markdown",
   "id": "61bca8dd",
   "metadata": {},
   "source": [
    "## Predicción sobre los precios de las acciones de Google\n",
    "\n",
    "**Autor: Luis Fernando Apáez Álvarez**\n",
    "\n",
    "\n",
    "#### Índice\n",
    "\n",
    "<ul>\n",
    "    <a href=\"#p1\"><li>Descripción</li></a>\n",
    "    <a href=\"#p2\"><li>Implementación del modelo</li></a>\n",
    "</ul>\n",
    "\n",
    "---\n",
    "\n",
    "### Descripción <a id=\"p1\"></a>\n",
    "\n",
    "En este proyecto ajustamos tres diferentes tipos de modelos, cuyos resultados fueron:\n",
    "\n",
    "Modelo|Error porcentual promedio|Error en la predicción de interés|std|\n",
    "---|---|---|---|\n",
    "Regresión lineal múltiple|0.67%|0.69%|0.87%|\n",
    "Red neuronal MLP|0.8%|0.31%|0.86%|\n",
    "Red neuronal LSTM|2.47%|3.18%|2.06%|"
   ]
  },
  {
   "cell_type": "markdown",
   "id": "0beb1ca0",
   "metadata": {},
   "source": [
    "A pesar de que la red neuronal MLP obtuve una mejor predicción para la información de interés, el modelo que fue mejor es el referente a la regresión lineal múltiple.\n",
    "\n",
    "Lo que haremos ahora será ajustar 4 modelos predictivos de regresión lineal múltiple (para ``Open, Close, low, High`` respectivamente) de la siguiente manera:\n",
    "\n",
    "* Con la información del dataset que tenemos realizaremos la predicción del precio de apertura del día siguiente.\n",
    "* De igual manera, con otros tres modelos realizaremos la predicción de los precios de ``Low, Close, High`` del día siguiente.\n",
    "* Con todo lo anterior conseguiremos tener la información predicha de ``Open, Close, low, High`` para un día en el cual no tenemos información.\n",
    "* Con la información obtenida anteriormente y con la del dataset original, predeciremos ahora los precios del día posterior siguiente. Por ejemplo, con los datos originales predecimos los precios para el día $t$. Luego, una vez predichos los precios para ese día, utilizaremos los precios de los días $s\\leq t$ para predecir ahora los precios para el día $t+1$ y así sucesivamente.\n",
    "\n",
    "### Implementación del modelo <a id=\"p2\"></a>\n",
    "\n",
    "#### Idea general\n",
    "\n",
    "Con el siguiente código conseguimos obtener la predicción del precio de apertura para el día siguiente al 28 de octubre del 2022:"
   ]
  },
  {
   "cell_type": "code",
   "execution_count": 1,
   "id": "6d0d7ef7",
   "metadata": {
    "scrolled": false
   },
   "outputs": [
    {
     "name": "stdout",
     "output_type": "stream",
     "text": [
      "Métricas:\n",
      "mse = 0.7872634840561122\n",
      "R^2 = 0.9993266842527836\n",
      "\n",
      "Estadísticas:\n"
     ]
    },
    {
     "data": {
      "text/plain": [
       "count    430.000000\n",
       "mean       0.674820\n",
       "std        0.879015\n",
       "min        0.000615\n",
       "25%        0.189228\n",
       "50%        0.413420\n",
       "75%        0.808264\n",
       "max        7.652582\n",
       "Name: error (%), dtype: float64"
      ]
     },
     "metadata": {},
     "output_type": "display_data"
    },
    {
     "name": "stdout",
     "output_type": "stream",
     "text": [
      "Valor para el 31-10-2022: 96.43814594627618\n"
     ]
    }
   ],
   "source": [
    "# Importaciones necesarias\n",
    "import yfinance as yf\n",
    "import matplotlib.pyplot as plt\n",
    "import seaborn as sns\n",
    "import pandas as pd\n",
    "from sklearn.model_selection import train_test_split\n",
    "from sklearn.linear_model import LinearRegression\n",
    "from sklearn.metrics import mean_squared_error\n",
    "from sklearn.metrics import r2_score\n",
    "import numpy as np\n",
    "plt.style.use('seaborn')\n",
    "\n",
    "# Instanciamos y configuramos la clave de google\n",
    "goog = yf.Ticker('goog')\n",
    "# Obtenemos la informacion\n",
    "data = goog.history(interval='1d', start='2016-01-01', end='2022-10-31')\n",
    "data = data.reset_index()\n",
    "# Los precios de apertura parten del indice 1 (omitimos la primera\n",
    "# observacion de indice 0)\n",
    "data_p = pd.DataFrame(data.loc[1:1718, \"Open\"]).reset_index()\n",
    "# El resto de la informacion parte del primer indice, pero no contempla\n",
    "# el ultimo\n",
    "data_p[\"High\"] = data.loc[0:1717, \"High\"]\n",
    "data_p[\"Low\"] = data.loc[0:1717, \"Low\"]\n",
    "data_p[\"Close\"] = data.loc[0:1717, \"Close\"]\n",
    "data_p = data_p.drop(\"index\", axis=1)\n",
    "\n",
    "# Instanciamos\n",
    "reglin = LinearRegression()\n",
    "\n",
    "# Definimos las variables\n",
    "X = data_p[[\"High\", \"Low\", \"Close\"]].values\n",
    "y = data_p[\"Open\"].values.reshape(-1, 1)\n",
    "\n",
    "# Realizamos la division de los datos\n",
    "X_train, X_test, y_train, y_test = train_test_split(X, y,\n",
    "                                                   test_size=0.25,\n",
    "                                                   random_state=123)\n",
    "\n",
    "# Ajustamos (entrenamos)\n",
    "reglin.fit(X_train, y_train)\n",
    "\n",
    "# Realizamos las predicciones de la variable \"y\" sobre el conjunto de pruebas\n",
    "y_pred = reglin.predict(X_test)\n",
    "\n",
    "# error cuadratico medio\n",
    "mse = mean_squared_error(y_pred, y_test)\n",
    "\n",
    "# R^2\n",
    "r2 = r2_score(y_pred, y_test)\n",
    "\n",
    "# veamos\n",
    "print(\"Métricas:\")\n",
    "print(f'mse = {mse}\\nR^2 = {r2}')\n",
    "\n",
    "# Dataframe con la informacion\n",
    "df_info = pd.DataFrame(y_pred).rename(columns = {0: 'y_pred'})\n",
    "df_info['y_test'] = y_test\n",
    "df_info = df_info.reset_index()\n",
    "\n",
    "# Calculamos las diferencias absolutas entre los valores reales y los predichos\n",
    "df_info['diff'] = abs(df_info.y_pred - df_info.y_test)\n",
    "\n",
    "# Calculamos el porcentaje de error para cada fila\n",
    "df_info['error (%)'] = (df_info['diff'] * 100) / df_info['y_test']\n",
    "\n",
    "# Estadisticas sobre las predicciones\n",
    "print()\n",
    "print(\"Estadísticas:\")\n",
    "display(df_info.describe()[\"error (%)\"])\n",
    "\n",
    "# Definimos los valores nuevos de las variables regresoras\n",
    "X_new = data.loc[1718, [\"High\", \"Low\", \"Close\"]].values.reshape(1, 3)\n",
    "\n",
    "# Predecimos utilizando el modelo reglin\n",
    "y_pred_new = reglin.predict(X_new)\n",
    "\n",
    "# Veamos\n",
    "print(f'Valor para el 31-10-2022: {y_pred_new[0][0]}')"
   ]
  },
  {
   "cell_type": "markdown",
   "id": "d47d199b",
   "metadata": {},
   "source": [
    "Lo que sigue es implementar tres modelos idénticos al anterior para predecir los valores de ``Low, Close, High``. Para ello definimos la siguiente función"
   ]
  },
  {
   "cell_type": "code",
   "execution_count": 2,
   "id": "4796dbd2",
   "metadata": {},
   "outputs": [],
   "source": [
    "def prediccion(X_reg, y_res, data_aux):\n",
    "    \"\"\"X: lista con los nombres de las variables regresoras;\n",
    "       y: cadena de texto referente al nombre de la variable de respuesta.\n",
    "       data_aux: dataframe con la informacion.\"\"\"\n",
    "    # Instanciamos\n",
    "    reglin = LinearRegression()\n",
    "    # Definimos las variables\n",
    "    X = data_aux[X_reg].values\n",
    "    y = data_aux[y_res].values.reshape(-1, 1)\n",
    "    # Realizamos la division de los datos\n",
    "    X_train, X_test, y_train, y_test = train_test_split(X, y,\n",
    "                                                       test_size=0.25,\n",
    "                                                       random_state=123)\n",
    "    # Ajustamos (entrenamos)\n",
    "    reglin.fit(X_train, y_train)\n",
    "    # Realizamos las predicciones de la variable \"y\" sobre el conjunto de pruebas\n",
    "    y_pred = reglin.predict(X_test)\n",
    "    # data_auxframe con la informacion\n",
    "    df_info = pd.DataFrame(y_pred).rename(columns = {0: 'y_pred'})\n",
    "    df_info['y_test'] = y_test\n",
    "    df_info = df_info.reset_index()\n",
    "    # Calculamos las diferencias absolutas entre los valores reales y los predichos\n",
    "    df_info['diff'] = abs(df_info.y_pred - df_info.y_test)\n",
    "    # Calculamos el porcentaje de error para cada fila\n",
    "    df_info['error (%)'] = (df_info['diff'] * 100) / df_info['y_test']\n",
    "    # Estadisticas sobre las predicciones\n",
    "    df_stats = df_info.describe()[\"error (%)\"]\n",
    "    # Definimos los valores nuevos de las variables regresoras\n",
    "    X_new = data.loc[1718, X_reg].values.reshape(1, 3)\n",
    "    # Predecimos utilizando el modelo reglin\n",
    "    y_pred_new = reglin.predict(X_new)\n",
    "    \n",
    "    # Retornamos el valor de la prediccion y la serie con informacion\n",
    "    # de algunas estadisticas sobre los errores porcentuales\n",
    "    return y_pred_new[0][0], df_stats"
   ]
  },
  {
   "cell_type": "markdown",
   "id": "69d2fe0f",
   "metadata": {},
   "source": [
    "Utilizamos la función anterior"
   ]
  },
  {
   "cell_type": "code",
   "execution_count": 3,
   "id": "c203cd66",
   "metadata": {},
   "outputs": [
    {
     "name": "stdout",
     "output_type": "stream",
     "text": [
      "Predicciones para el día 31 de octubre del 2022:\n",
      "Open: 96.43814594627618\n",
      "low: 95.2515341482621\n",
      "high: 96.08836426598155\n",
      "Close: 93.81752952066105\n"
     ]
    }
   ],
   "source": [
    "pred_close, df_stats_close = prediccion([\"High\", \"Low\", \"Open\"], \"Close\", data_p)\n",
    "pred_low, df_stats_low = prediccion([\"High\", \"Open\", \"Close\"], \"Low\", data_p)\n",
    "pred_high, df_stats_high = prediccion([\"Open\", \"Low\", \"Close\"], \"High\", data_p)\n",
    "pred_open, df_stats_open = prediccion([\"High\", \"Low\", \"Close\"], \"Open\", data_p)\n",
    "\n",
    "print(\"Predicciones para el día 31 de octubre del 2022:\")\n",
    "print(f'Open: {pred_open}')\n",
    "print(f'low: {pred_low}')\n",
    "print(f'high: {pred_high}')\n",
    "print(f'Close: {pred_close}')"
   ]
  },
  {
   "cell_type": "code",
   "execution_count": 4,
   "id": "c4a09b77",
   "metadata": {
    "scrolled": true
   },
   "outputs": [
    {
     "data": {
      "text/plain": [
       "count    430.000000\n",
       "mean       0.674820\n",
       "std        0.879015\n",
       "min        0.000615\n",
       "25%        0.189228\n",
       "50%        0.413420\n",
       "75%        0.808264\n",
       "max        7.652582\n",
       "Name: error (%), dtype: float64"
      ]
     },
     "metadata": {},
     "output_type": "display_data"
    },
    {
     "data": {
      "text/plain": [
       "count    430.000000\n",
       "mean       0.669495\n",
       "std        0.636570\n",
       "min        0.002276\n",
       "25%        0.262821\n",
       "50%        0.556750\n",
       "75%        0.824435\n",
       "max        4.956993\n",
       "Name: error (%), dtype: float64"
      ]
     },
     "metadata": {},
     "output_type": "display_data"
    },
    {
     "data": {
      "text/plain": [
       "count    430.000000\n",
       "mean       0.662731\n",
       "std        0.732066\n",
       "min        0.000624\n",
       "25%        0.254185\n",
       "50%        0.498132\n",
       "75%        0.809657\n",
       "max        5.724562\n",
       "Name: error (%), dtype: float64"
      ]
     },
     "metadata": {},
     "output_type": "display_data"
    },
    {
     "data": {
      "text/plain": [
       "count    430.000000\n",
       "mean       0.463031\n",
       "std        0.485965\n",
       "min        0.002109\n",
       "25%        0.147989\n",
       "50%        0.309214\n",
       "75%        0.597531\n",
       "max        3.628384\n",
       "Name: error (%), dtype: float64"
      ]
     },
     "metadata": {},
     "output_type": "display_data"
    }
   ],
   "source": [
    "display(df_stats_open)\n",
    "display(df_stats_high)\n",
    "display(df_stats_low)\n",
    "display(df_stats_close)"
   ]
  },
  {
   "cell_type": "markdown",
   "id": "948ca325",
   "metadata": {},
   "source": [
    "Vemos que en general las predicciones fueron muy buenas, en particular, el modelo predijo mejor para los precios de cierre.\n",
    "\n",
    "Lo que sigue es agregrar esa información nueva al dataframe original y volver a repetir el proceso."
   ]
  },
  {
   "cell_type": "code",
   "execution_count": 5,
   "id": "501e8ac2",
   "metadata": {},
   "outputs": [
    {
     "data": {
      "text/html": [
       "<div>\n",
       "<style scoped>\n",
       "    .dataframe tbody tr th:only-of-type {\n",
       "        vertical-align: middle;\n",
       "    }\n",
       "\n",
       "    .dataframe tbody tr th {\n",
       "        vertical-align: top;\n",
       "    }\n",
       "\n",
       "    .dataframe thead th {\n",
       "        text-align: right;\n",
       "    }\n",
       "</style>\n",
       "<table border=\"1\" class=\"dataframe\">\n",
       "  <thead>\n",
       "    <tr style=\"text-align: right;\">\n",
       "      <th></th>\n",
       "      <th>Date</th>\n",
       "      <th>Open</th>\n",
       "      <th>High</th>\n",
       "      <th>Low</th>\n",
       "      <th>Close</th>\n",
       "    </tr>\n",
       "  </thead>\n",
       "  <tbody>\n",
       "    <tr>\n",
       "      <th>0</th>\n",
       "      <td>t</td>\n",
       "      <td>96.438146</td>\n",
       "      <td>96.088364</td>\n",
       "      <td>95.251534</td>\n",
       "      <td>93.81753</td>\n",
       "    </tr>\n",
       "  </tbody>\n",
       "</table>\n",
       "</div>"
      ],
      "text/plain": [
       "  Date       Open       High        Low     Close\n",
       "0    t  96.438146  96.088364  95.251534  93.81753"
      ]
     },
     "execution_count": 5,
     "metadata": {},
     "output_type": "execute_result"
    }
   ],
   "source": [
    "# Creamos un dataframe con la informacion nueva\n",
    "info_nueva = pd.DataFrame([\"t\", pred_open, pred_high, pred_low, pred_close]).transpose()\n",
    "info_nueva = info_nueva.rename(columns={0: \"Date\", 1: \"Open\", 2: \"High\", 3: \"Low\", 4: \"Close\"})\n",
    "info_nueva"
   ]
  },
  {
   "cell_type": "code",
   "execution_count": 12,
   "id": "e781880c",
   "metadata": {},
   "outputs": [
    {
     "data": {
      "text/html": [
       "<div>\n",
       "<style scoped>\n",
       "    .dataframe tbody tr th:only-of-type {\n",
       "        vertical-align: middle;\n",
       "    }\n",
       "\n",
       "    .dataframe tbody tr th {\n",
       "        vertical-align: top;\n",
       "    }\n",
       "\n",
       "    .dataframe thead th {\n",
       "        text-align: right;\n",
       "    }\n",
       "</style>\n",
       "<table border=\"1\" class=\"dataframe\">\n",
       "  <thead>\n",
       "    <tr style=\"text-align: right;\">\n",
       "      <th></th>\n",
       "      <th>Date</th>\n",
       "      <th>Open</th>\n",
       "      <th>High</th>\n",
       "      <th>Low</th>\n",
       "      <th>Close</th>\n",
       "    </tr>\n",
       "  </thead>\n",
       "  <tbody>\n",
       "    <tr>\n",
       "      <th>1719</th>\n",
       "      <td>t</td>\n",
       "      <td>96.438146</td>\n",
       "      <td>96.088364</td>\n",
       "      <td>95.251534</td>\n",
       "      <td>93.81753</td>\n",
       "    </tr>\n",
       "  </tbody>\n",
       "</table>\n",
       "</div>"
      ],
      "text/plain": [
       "     Date       Open       High        Low     Close\n",
       "1719    t  96.438146  96.088364  95.251534  93.81753"
      ]
     },
     "execution_count": 12,
     "metadata": {},
     "output_type": "execute_result"
    }
   ],
   "source": [
    "# Cambiamos el indice\n",
    "info_nueva = info_nueva.rename(index={0: len(data)})\n",
    "info_nueva"
   ]
  },
  {
   "cell_type": "code",
   "execution_count": 6,
   "id": "de313892",
   "metadata": {
    "scrolled": true
   },
   "outputs": [
    {
     "data": {
      "text/html": [
       "<div>\n",
       "<style scoped>\n",
       "    .dataframe tbody tr th:only-of-type {\n",
       "        vertical-align: middle;\n",
       "    }\n",
       "\n",
       "    .dataframe tbody tr th {\n",
       "        vertical-align: top;\n",
       "    }\n",
       "\n",
       "    .dataframe thead th {\n",
       "        text-align: right;\n",
       "    }\n",
       "</style>\n",
       "<table border=\"1\" class=\"dataframe\">\n",
       "  <thead>\n",
       "    <tr style=\"text-align: right;\">\n",
       "      <th></th>\n",
       "      <th>Date</th>\n",
       "      <th>Open</th>\n",
       "      <th>High</th>\n",
       "      <th>Low</th>\n",
       "      <th>Close</th>\n",
       "    </tr>\n",
       "  </thead>\n",
       "  <tbody>\n",
       "    <tr>\n",
       "      <th>0</th>\n",
       "      <td>2016-01-04</td>\n",
       "      <td>37.150002</td>\n",
       "      <td>37.202999</td>\n",
       "      <td>36.562901</td>\n",
       "      <td>37.091999</td>\n",
       "    </tr>\n",
       "    <tr>\n",
       "      <th>1</th>\n",
       "      <td>2016-01-05</td>\n",
       "      <td>37.322498</td>\n",
       "      <td>37.599998</td>\n",
       "      <td>36.931999</td>\n",
       "      <td>37.129002</td>\n",
       "    </tr>\n",
       "    <tr>\n",
       "      <th>2</th>\n",
       "      <td>2016-01-06</td>\n",
       "      <td>36.500000</td>\n",
       "      <td>37.359001</td>\n",
       "      <td>36.445999</td>\n",
       "      <td>37.181000</td>\n",
       "    </tr>\n",
       "    <tr>\n",
       "      <th>3</th>\n",
       "      <td>2016-01-07</td>\n",
       "      <td>36.515499</td>\n",
       "      <td>36.924999</td>\n",
       "      <td>35.952999</td>\n",
       "      <td>36.319500</td>\n",
       "    </tr>\n",
       "    <tr>\n",
       "      <th>4</th>\n",
       "      <td>2016-01-08</td>\n",
       "      <td>36.572498</td>\n",
       "      <td>36.661499</td>\n",
       "      <td>35.650002</td>\n",
       "      <td>35.723499</td>\n",
       "    </tr>\n",
       "  </tbody>\n",
       "</table>\n",
       "</div>"
      ],
      "text/plain": [
       "        Date       Open       High        Low      Close\n",
       "0 2016-01-04  37.150002  37.202999  36.562901  37.091999\n",
       "1 2016-01-05  37.322498  37.599998  36.931999  37.129002\n",
       "2 2016-01-06  36.500000  37.359001  36.445999  37.181000\n",
       "3 2016-01-07  36.515499  36.924999  35.952999  36.319500\n",
       "4 2016-01-08  36.572498  36.661499  35.650002  35.723499"
      ]
     },
     "metadata": {},
     "output_type": "display_data"
    },
    {
     "name": "stdout",
     "output_type": "stream",
     "text": [
      "(1719, 5)\n"
     ]
    }
   ],
   "source": [
    "# Veamos de nuevo el dataframe original\n",
    "data = data[[\"Date\", \"Open\", \"High\", \"Low\", \"Close\"]]\n",
    "display(data.head())\n",
    "print(data.shape)"
   ]
  },
  {
   "cell_type": "markdown",
   "id": "6b50c08a",
   "metadata": {},
   "source": [
    "Concatenamos (o apilamos) los dos dataframes"
   ]
  },
  {
   "cell_type": "code",
   "execution_count": 14,
   "id": "3261366b",
   "metadata": {
    "scrolled": false
   },
   "outputs": [
    {
     "data": {
      "text/html": [
       "<div>\n",
       "<style scoped>\n",
       "    .dataframe tbody tr th:only-of-type {\n",
       "        vertical-align: middle;\n",
       "    }\n",
       "\n",
       "    .dataframe tbody tr th {\n",
       "        vertical-align: top;\n",
       "    }\n",
       "\n",
       "    .dataframe thead th {\n",
       "        text-align: right;\n",
       "    }\n",
       "</style>\n",
       "<table border=\"1\" class=\"dataframe\">\n",
       "  <thead>\n",
       "    <tr style=\"text-align: right;\">\n",
       "      <th></th>\n",
       "      <th>Date</th>\n",
       "      <th>Open</th>\n",
       "      <th>High</th>\n",
       "      <th>Low</th>\n",
       "      <th>Close</th>\n",
       "    </tr>\n",
       "  </thead>\n",
       "  <tbody>\n",
       "    <tr>\n",
       "      <th>1715</th>\n",
       "      <td>2022-10-25 00:00:00</td>\n",
       "      <td>103.300003</td>\n",
       "      <td>105.099998</td>\n",
       "      <td>103.019997</td>\n",
       "      <td>104.93</td>\n",
       "    </tr>\n",
       "    <tr>\n",
       "      <th>1716</th>\n",
       "      <td>2022-10-26 00:00:00</td>\n",
       "      <td>96.760002</td>\n",
       "      <td>98.540001</td>\n",
       "      <td>94.57</td>\n",
       "      <td>94.82</td>\n",
       "    </tr>\n",
       "    <tr>\n",
       "      <th>1717</th>\n",
       "      <td>2022-10-27 00:00:00</td>\n",
       "      <td>94.309998</td>\n",
       "      <td>95.169998</td>\n",
       "      <td>91.900002</td>\n",
       "      <td>92.599998</td>\n",
       "    </tr>\n",
       "    <tr>\n",
       "      <th>1718</th>\n",
       "      <td>2022-10-28 00:00:00</td>\n",
       "      <td>92.529999</td>\n",
       "      <td>96.860001</td>\n",
       "      <td>92.322998</td>\n",
       "      <td>96.580002</td>\n",
       "    </tr>\n",
       "    <tr>\n",
       "      <th>1719</th>\n",
       "      <td>t</td>\n",
       "      <td>96.438146</td>\n",
       "      <td>96.088364</td>\n",
       "      <td>95.251534</td>\n",
       "      <td>93.81753</td>\n",
       "    </tr>\n",
       "  </tbody>\n",
       "</table>\n",
       "</div>"
      ],
      "text/plain": [
       "                     Date        Open        High         Low      Close\n",
       "1715  2022-10-25 00:00:00  103.300003  105.099998  103.019997     104.93\n",
       "1716  2022-10-26 00:00:00   96.760002   98.540001       94.57      94.82\n",
       "1717  2022-10-27 00:00:00   94.309998   95.169998   91.900002  92.599998\n",
       "1718  2022-10-28 00:00:00   92.529999   96.860001   92.322998  96.580002\n",
       "1719                    t   96.438146   96.088364   95.251534   93.81753"
      ]
     },
     "execution_count": 14,
     "metadata": {},
     "output_type": "execute_result"
    }
   ],
   "source": [
    "pd.concat([data, info_nueva]).tail()"
   ]
  },
  {
   "cell_type": "markdown",
   "id": "2b2622cc",
   "metadata": {},
   "source": [
    "#### Implemetnación\n",
    "\n",
    "Lo que sigue es repetir el proceso que hicimos antes, pero configurándolo mediante una función (digamos ``fun_forecast()``). Dicha función hará lo siguiente:\n",
    "\n",
    "* Le pasaremos un número entero positivo que representa el número de tiempos $t$ a predecir, donde dichos nuevos valores estarán al final de una copia del dataframe base ``data``. dicha copia de ``data`` será el valor que nos retorne la función.\n",
    "\n",
    "De tal manera, escribimos"
   ]
  },
  {
   "cell_type": "code",
   "execution_count": 18,
   "id": "c51bed55",
   "metadata": {},
   "outputs": [],
   "source": [
    "# Modificamos la funcion prediccion que habiamos definido antes\n",
    "def prediccion_pred(X_reg, y_res, data_origi, data_aux):\n",
    "    \"\"\"X: lista con los nombres de las variables regresoras;\n",
    "       y: cadena de texto referente al nombre de la variable de respuesta;\n",
    "       data_origi: dataframe con la información conjunta de los precios;\n",
    "       data_aux: dataframe con la informacion desfasada en un día para predecir\n",
    "                 el precio del día siguiente.\"\"\"\n",
    "    # Instanciamos\n",
    "    reglin = LinearRegression()\n",
    "    # Definimos las variables\n",
    "    X = data_aux[X_reg].values\n",
    "    y = data_aux[y_res].values.reshape(-1, 1)\n",
    "    # Realizamos la division de los datos\n",
    "    X_train, X_test, y_train, y_test = train_test_split(X, y,\n",
    "                                                       test_size=0.25,\n",
    "                                                       random_state=123)\n",
    "    # Ajustamos (entrenamos)\n",
    "    reglin.fit(X_train, y_train)\n",
    "    # Definimos los valores nuevos de las variables regresoras\n",
    "    X_new = data_origi.loc[len(data_origi)-1, X_reg].values.reshape(1, 3)\n",
    "    # Predecimos utilizando el modelo reglin\n",
    "    y_pred_new = reglin.predict(X_new)\n",
    "    # Retornamos el valor de la prediccion\n",
    "    return y_pred_new[0][0]\n",
    "\n",
    "# Ahora si...\n",
    "def fun_forecast(n):\n",
    "    \"\"\"Función para realizar el pronóstico de los precios de apertura, cierre,\n",
    "    los precios más altos y bajos en un día de las acciones de Google.\n",
    "    La función recibe como parámetro un número entero n referente al número de\n",
    "    períodos a pronósticar y retorna un dataframe con toda la información.\"\"\"\n",
    "    # Copia del dataframe original\n",
    "    data_0 = goog.history(interval='1d', start='2016-01-01', end='2022-10-31')\n",
    "    data_0 = data_0.reset_index()\n",
    "    data_0 = data_0[[\"Date\", \"Open\", \"High\", \"Low\", \"Close\"]]\n",
    "    \n",
    "    # Controlamos posible error\n",
    "    if (n > 0) and (type(n) == type(0)):\n",
    "        for i in range(n):\n",
    "            # --------------------------------------------------------------------\n",
    "            # CREACION DEL DATAFRAME CON LA INFORMACION DESFASADA PARA REALIZAR LA\n",
    "            # PREDICCION.\n",
    "            # Los precios de apertura parten del indice 1 (omitimos la primera\n",
    "            # observacion de indice 0)\n",
    "            data_p = pd.DataFrame(data_0.loc[1: , \"Open\"]).reset_index()\n",
    "            # El resto de la informacion parte del primer indice, pero no contempla\n",
    "            # el ultimo\n",
    "            data_p[\"High\"] = data_0.loc[0:len(data_0)-2, \"High\"]\n",
    "            data_p[\"Low\"] = data_0.loc[0:len(data_0)-2, \"Low\"]\n",
    "            data_p[\"Close\"] = data_0.loc[0:len(data_0)-2, \"Close\"]\n",
    "            data_p = data_p.drop(\"index\", axis=1)\n",
    "\n",
    "            # --------------------------------------------------------------------\n",
    "            # PREDICCION DE LOS PRECIOS PARA EL DIA SIGUIENTE\n",
    "            pred_close = prediccion_pred([\"High\", \"Low\", \"Open\"], \"Close\", data_0, data_p)\n",
    "            pred_low = prediccion_pred([\"High\", \"Open\", \"Close\"], \"Low\", data_0, data_p)\n",
    "            pred_high = prediccion_pred([\"Open\", \"Low\", \"Close\"], \"High\", data_0, data_p)\n",
    "            pred_open = prediccion_pred([\"High\", \"Low\", \"Close\"], \"Open\", data_0, data_p)\n",
    "\n",
    "            # --------------------------------------------------------------------\n",
    "            # CREAMOS UN DATAFRAME CON LA INFORMACION OBTENIDA ANTES\n",
    "            cad_aux = \"t + \" + str(i)\n",
    "            info_nueva = pd.DataFrame([cad_aux, pred_open, pred_high, pred_low, pred_close]).transpose()\n",
    "            info_nueva = info_nueva.rename(columns={0: \"Date\", 1: \"Open\", 2: \"High\", 3: \"Low\", 4: \"Close\"})\n",
    "            info_nueva = info_nueva.rename(index={0: len(data_0)})\n",
    "            # AGREGAMOS LA INFORMACION NUEVA AL DATAFRAME BASE\n",
    "            data_0 = pd.concat([data_0, info_nueva])\n",
    "\n",
    "        # Retornamos el dataframe con la información nueva\n",
    "        return data_0\n",
    "    else:\n",
    "        return \"n debe ser un entero positivo\""
   ]
  },
  {
   "cell_type": "markdown",
   "id": "c03db2d6",
   "metadata": {},
   "source": [
    "Realicemos una prueba realizando un pronóstico a 10 tiempos futuros:"
   ]
  },
  {
   "cell_type": "code",
   "execution_count": 19,
   "id": "02f5224c",
   "metadata": {
    "scrolled": true
   },
   "outputs": [
    {
     "data": {
      "text/html": [
       "<div>\n",
       "<style scoped>\n",
       "    .dataframe tbody tr th:only-of-type {\n",
       "        vertical-align: middle;\n",
       "    }\n",
       "\n",
       "    .dataframe tbody tr th {\n",
       "        vertical-align: top;\n",
       "    }\n",
       "\n",
       "    .dataframe thead th {\n",
       "        text-align: right;\n",
       "    }\n",
       "</style>\n",
       "<table border=\"1\" class=\"dataframe\">\n",
       "  <thead>\n",
       "    <tr style=\"text-align: right;\">\n",
       "      <th></th>\n",
       "      <th>Date</th>\n",
       "      <th>Open</th>\n",
       "      <th>High</th>\n",
       "      <th>Low</th>\n",
       "      <th>Close</th>\n",
       "    </tr>\n",
       "  </thead>\n",
       "  <tbody>\n",
       "    <tr>\n",
       "      <th>1718</th>\n",
       "      <td>2022-10-28 00:00:00</td>\n",
       "      <td>92.529999</td>\n",
       "      <td>96.860001</td>\n",
       "      <td>92.322998</td>\n",
       "      <td>96.580002</td>\n",
       "    </tr>\n",
       "    <tr>\n",
       "      <th>1719</th>\n",
       "      <td>t + 0</td>\n",
       "      <td>96.438146</td>\n",
       "      <td>96.088364</td>\n",
       "      <td>95.251534</td>\n",
       "      <td>93.81753</td>\n",
       "    </tr>\n",
       "    <tr>\n",
       "      <th>1720</th>\n",
       "      <td>t + 1</td>\n",
       "      <td>94.033306</td>\n",
       "      <td>95.697231</td>\n",
       "      <td>93.388678</td>\n",
       "      <td>95.951627</td>\n",
       "    </tr>\n",
       "    <tr>\n",
       "      <th>1721</th>\n",
       "      <td>t + 2</td>\n",
       "      <td>95.708285</td>\n",
       "      <td>96.298363</td>\n",
       "      <td>94.368667</td>\n",
       "      <td>94.377298</td>\n",
       "    </tr>\n",
       "    <tr>\n",
       "      <th>1722</th>\n",
       "      <td>t + 3</td>\n",
       "      <td>94.518132</td>\n",
       "      <td>95.775673</td>\n",
       "      <td>93.72009</td>\n",
       "      <td>95.444571</td>\n",
       "    </tr>\n",
       "    <tr>\n",
       "      <th>1723</th>\n",
       "      <td>t + 4</td>\n",
       "      <td>95.403977</td>\n",
       "      <td>96.108984</td>\n",
       "      <td>94.158469</td>\n",
       "      <td>94.684339</td>\n",
       "    </tr>\n",
       "    <tr>\n",
       "      <th>1724</th>\n",
       "      <td>t + 5</td>\n",
       "      <td>94.759005</td>\n",
       "      <td>95.867478</td>\n",
       "      <td>93.866003</td>\n",
       "      <td>95.192229</td>\n",
       "    </tr>\n",
       "    <tr>\n",
       "      <th>1725</th>\n",
       "      <td>t + 6</td>\n",
       "      <td>95.138967</td>\n",
       "      <td>96.013897</td>\n",
       "      <td>94.080772</td>\n",
       "      <td>94.839552</td>\n",
       "    </tr>\n",
       "    <tr>\n",
       "      <th>1726</th>\n",
       "      <td>t + 7</td>\n",
       "      <td>94.834829</td>\n",
       "      <td>95.924095</td>\n",
       "      <td>93.907795</td>\n",
       "      <td>95.078881</td>\n",
       "    </tr>\n",
       "    <tr>\n",
       "      <th>1727</th>\n",
       "      <td>t + 8</td>\n",
       "      <td>95.112824</td>\n",
       "      <td>95.989707</td>\n",
       "      <td>94.039618</td>\n",
       "      <td>94.867489</td>\n",
       "    </tr>\n",
       "    <tr>\n",
       "      <th>1728</th>\n",
       "      <td>t + 9</td>\n",
       "      <td>94.882578</td>\n",
       "      <td>95.939638</td>\n",
       "      <td>93.932225</td>\n",
       "      <td>95.043535</td>\n",
       "    </tr>\n",
       "  </tbody>\n",
       "</table>\n",
       "</div>"
      ],
      "text/plain": [
       "                     Date       Open       High        Low      Close\n",
       "1718  2022-10-28 00:00:00  92.529999  96.860001  92.322998  96.580002\n",
       "1719                t + 0  96.438146  96.088364  95.251534   93.81753\n",
       "1720                t + 1  94.033306  95.697231  93.388678  95.951627\n",
       "1721                t + 2  95.708285  96.298363  94.368667  94.377298\n",
       "1722                t + 3  94.518132  95.775673   93.72009  95.444571\n",
       "1723                t + 4  95.403977  96.108984  94.158469  94.684339\n",
       "1724                t + 5  94.759005  95.867478  93.866003  95.192229\n",
       "1725                t + 6  95.138967  96.013897  94.080772  94.839552\n",
       "1726                t + 7  94.834829  95.924095  93.907795  95.078881\n",
       "1727                t + 8  95.112824  95.989707  94.039618  94.867489\n",
       "1728                t + 9  94.882578  95.939638  93.932225  95.043535"
      ]
     },
     "execution_count": 19,
     "metadata": {},
     "output_type": "execute_result"
    }
   ],
   "source": [
    "data_10 = fun_forecast(10)\n",
    "data_10.tail(11)"
   ]
  },
  {
   "cell_type": "code",
   "execution_count": 35,
   "id": "ea9bb5a1",
   "metadata": {
    "scrolled": true
   },
   "outputs": [
    {
     "data": {
      "image/png": "[encoded data removed]",
      "text/plain": [
       "<Figure size 1008x432 with 1 Axes>"
      ]
     },
     "metadata": {
      "needs_background": "light"
     },
     "output_type": "display_data"
    }
   ],
   "source": [
    "# Graficamente\n",
    "\n",
    "plt.figure(figsize=(14,6))\n",
    "plt.plot(np.arange(1650, len(data_10)-10), data_10[\"Open\"][1650:len(data_10)-10], \n",
    "         color='darkblue', label='Valor real')\n",
    "plt.plot(np.arange(len(data_10)-11, len(data_10)), data_10[\"Open\"][len(data_10)-11: len(data_10)], \n",
    "                   color='red', label='Predicción')\n",
    "plt.title(\"Predicción a 10 tiempos futuros\", size=16)\n",
    "plt.ylabel(\"Precio de apertura\")\n",
    "plt.legend()\n",
    "plt.show()"
   ]
  },
  {
   "cell_type": "markdown",
   "id": "ff2ef484",
   "metadata": {},
   "source": [
    "Notamos que las primeras predicciones son buenas y diferentes, luego, a partir de cierto punto las predicciones se van estabilizando.\n",
    "\n",
    "En comparativa, veamos los precios reales para esos 10 tiempos en los cuales realizamos las predicciones:"
   ]
  },
  {
   "cell_type": "code",
   "execution_count": 40,
   "id": "5e4d1136",
   "metadata": {
    "scrolled": false
   },
   "outputs": [
    {
     "data": {
      "image/png": "[encoded data removed]",
      "text/plain": [
       "<Figure size 1008x432 with 1 Axes>"
      ]
     },
     "metadata": {
      "needs_background": "light"
     },
     "output_type": "display_data"
    }
   ],
   "source": [
    "plt.figure(figsize=(14,6))\n",
    "\n",
    "# Cargamos los datos\n",
    "data_o = goog.history(interval='1d', start='2016-01-01', end='2022-11-14')\n",
    "\n",
    "# Graficamos\n",
    "plt.plot(np.arange(1650, len(data_o)), data_o[\"Open\"][1650:len(data_o)], \n",
    "         color='darkblue', label='Valor real')\n",
    "plt.plot(np.arange(len(data_10)-11, len(data_10)), data_10[\"Open\"][len(data_10)-11: len(data_10)], \n",
    "                   color='red', label='Predicción')\n",
    "plt.title(\"Predicción a 10 tiempos futuros\", size=16)\n",
    "plt.ylabel(\"Precio de apertura\")\n",
    "plt.legend()\n",
    "plt.show()"
   ]
  },
  {
   "cell_type": "markdown",
   "id": "6be2a52f",
   "metadata": {},
   "source": [
    "De nuevo, notamos que las primeras predicciones son buenas, pero el resto tendió a alejarse, no obstante, la última observación: "
   ]
  },
  {
   "cell_type": "code",
   "execution_count": 41,
   "id": "516741ef",
   "metadata": {
    "scrolled": true
   },
   "outputs": [
    {
     "data": {
      "text/html": [
       "<div>\n",
       "<style scoped>\n",
       "    .dataframe tbody tr th:only-of-type {\n",
       "        vertical-align: middle;\n",
       "    }\n",
       "\n",
       "    .dataframe tbody tr th {\n",
       "        vertical-align: top;\n",
       "    }\n",
       "\n",
       "    .dataframe thead th {\n",
       "        text-align: right;\n",
       "    }\n",
       "</style>\n",
       "<table border=\"1\" class=\"dataframe\">\n",
       "  <thead>\n",
       "    <tr style=\"text-align: right;\">\n",
       "      <th></th>\n",
       "      <th>Date</th>\n",
       "      <th>Open</th>\n",
       "      <th>High</th>\n",
       "      <th>Low</th>\n",
       "      <th>Close</th>\n",
       "    </tr>\n",
       "  </thead>\n",
       "  <tbody>\n",
       "    <tr>\n",
       "      <th>1728</th>\n",
       "      <td>t + 9</td>\n",
       "      <td>94.882578</td>\n",
       "      <td>95.939638</td>\n",
       "      <td>93.932225</td>\n",
       "      <td>95.043535</td>\n",
       "    </tr>\n",
       "  </tbody>\n",
       "</table>\n",
       "</div>"
      ],
      "text/plain": [
       "       Date       Open       High        Low      Close\n",
       "1728  t + 9  94.882578  95.939638  93.932225  95.043535"
      ]
     },
     "metadata": {},
     "output_type": "display_data"
    },
    {
     "data": {
      "text/html": [
       "<div>\n",
       "<style scoped>\n",
       "    .dataframe tbody tr th:only-of-type {\n",
       "        vertical-align: middle;\n",
       "    }\n",
       "\n",
       "    .dataframe tbody tr th {\n",
       "        vertical-align: top;\n",
       "    }\n",
       "\n",
       "    .dataframe thead th {\n",
       "        text-align: right;\n",
       "    }\n",
       "</style>\n",
       "<table border=\"1\" class=\"dataframe\">\n",
       "  <thead>\n",
       "    <tr style=\"text-align: right;\">\n",
       "      <th></th>\n",
       "      <th>Open</th>\n",
       "      <th>High</th>\n",
       "      <th>Low</th>\n",
       "      <th>Close</th>\n",
       "      <th>Volume</th>\n",
       "      <th>Dividends</th>\n",
       "      <th>Stock Splits</th>\n",
       "    </tr>\n",
       "    <tr>\n",
       "      <th>Date</th>\n",
       "      <th></th>\n",
       "      <th></th>\n",
       "      <th></th>\n",
       "      <th></th>\n",
       "      <th></th>\n",
       "      <th></th>\n",
       "      <th></th>\n",
       "    </tr>\n",
       "  </thead>\n",
       "  <tbody>\n",
       "    <tr>\n",
       "      <th>2022-11-11</th>\n",
       "      <td>94.709999</td>\n",
       "      <td>97.360001</td>\n",
       "      <td>94.160004</td>\n",
       "      <td>96.730003</td>\n",
       "      <td>30569100</td>\n",
       "      <td>0</td>\n",
       "      <td>0.0</td>\n",
       "    </tr>\n",
       "  </tbody>\n",
       "</table>\n",
       "</div>"
      ],
      "text/plain": [
       "                 Open       High        Low      Close    Volume  Dividends  \\\n",
       "Date                                                                          \n",
       "2022-11-11  94.709999  97.360001  94.160004  96.730003  30569100          0   \n",
       "\n",
       "            Stock Splits  \n",
       "Date                      \n",
       "2022-11-11           0.0  "
      ]
     },
     "metadata": {},
     "output_type": "display_data"
    }
   ],
   "source": [
    "display(data_10.tail(1))\n",
    "display(data_o.tail(1))"
   ]
  },
  {
   "cell_type": "markdown",
   "id": "722fe326",
   "metadata": {},
   "source": [
    "obtuve una muy buena predicción por el modelo, de hecho, para esa última observación"
   ]
  },
  {
   "cell_type": "code",
   "execution_count": 43,
   "id": "485f0bb8",
   "metadata": {
    "scrolled": true
   },
   "outputs": [
    {
     "name": "stdout",
     "output_type": "stream",
     "text": [
      "Error porcentual: 0.18%\n"
     ]
    }
   ],
   "source": [
    "print(f'Error porcentual: {round((94.882578-94.709999) * 100 / (94.709999), 2)}%')"
   ]
  },
  {
   "cell_type": "markdown",
   "id": "9d9a00ea",
   "metadata": {},
   "source": [
    "Lo cual puede ser debido a que los precios se están estabilizando en sus precios pasados, de modo que la tendencia que tenían a la baja, regresa con una tendencia a la alza, lo cual se intersecta con la tendencia constante de las predicciones.\n",
    "\n",
    "Veamos ahora las predicciones para los precios de cierre"
   ]
  },
  {
   "cell_type": "code",
   "execution_count": 44,
   "id": "175d2247",
   "metadata": {
    "scrolled": true
   },
   "outputs": [
    {
     "data": {
      "image/png": "[encoded data removed]",
      "text/plain": [
       "<Figure size 1008x432 with 1 Axes>"
      ]
     },
     "metadata": {
      "needs_background": "light"
     },
     "output_type": "display_data"
    }
   ],
   "source": [
    "plt.figure(figsize=(14,6))\n",
    "\n",
    "# Graficamos\n",
    "plt.plot(np.arange(1650, len(data_o)), data_o[\"Close\"][1650:len(data_o)], \n",
    "         color='darkblue', label='Valor real')\n",
    "plt.plot(np.arange(len(data_10)-11, len(data_10)), data_10[\"Close\"][len(data_10)-11: len(data_10)], \n",
    "                   color='red', label='Predicción')\n",
    "plt.title(\"Predicción a 10 tiempos futuros\", size=16)\n",
    "plt.ylabel(\"Precio de cierre\")\n",
    "plt.legend()\n",
    "plt.show()"
   ]
  },
  {
   "cell_type": "markdown",
   "id": "9c7b89b5",
   "metadata": {},
   "source": [
    "Veamos ahora las predicciones para los precios más altos en el día"
   ]
  },
  {
   "cell_type": "code",
   "execution_count": 45,
   "id": "4fd23508",
   "metadata": {
    "scrolled": true
   },
   "outputs": [
    {
     "data": {
      "image/png": "[encoded data removed]",
      "text/plain": [
       "<Figure size 1008x432 with 1 Axes>"
      ]
     },
     "metadata": {
      "needs_background": "light"
     },
     "output_type": "display_data"
    }
   ],
   "source": [
    "plt.figure(figsize=(14,6))\n",
    "\n",
    "# Graficamos\n",
    "plt.plot(np.arange(1650, len(data_o)), data_o[\"High\"][1650:len(data_o)], \n",
    "         color='darkblue', label='Valor real')\n",
    "plt.plot(np.arange(len(data_10)-11, len(data_10)), data_10[\"High\"][len(data_10)-11: len(data_10)], \n",
    "                   color='red', label='Predicción')\n",
    "plt.title(\"Predicción a 10 tiempos futuros\", size=16)\n",
    "plt.ylabel(\"Precio de más alto\")\n",
    "plt.legend()\n",
    "plt.show()"
   ]
  },
  {
   "cell_type": "markdown",
   "id": "2006a8eb",
   "metadata": {},
   "source": [
    "Veamos ahora las predicciones para los precios más bajos en el día"
   ]
  },
  {
   "cell_type": "code",
   "execution_count": 47,
   "id": "8af45340",
   "metadata": {
    "scrolled": true
   },
   "outputs": [
    {
     "data": {
      "image/png": "[encoded data removed]",
      "text/plain": [
       "<Figure size 1008x288 with 1 Axes>"
      ]
     },
     "metadata": {
      "needs_background": "light"
     },
     "output_type": "display_data"
    }
   ],
   "source": [
    "plt.figure(figsize=(14,4))\n",
    "\n",
    "# Graficamos\n",
    "plt.plot(np.arange(1650, len(data_o)), data_o[\"Low\"][1650:len(data_o)], \n",
    "         color='darkblue', label='Valor real')\n",
    "plt.plot(np.arange(len(data_10)-11, len(data_10)), data_10[\"Low\"][len(data_10)-11: len(data_10)], \n",
    "                   color='red', label='Predicción')\n",
    "plt.title(\"Predicción a 10 tiempos futuros\", size=16)\n",
    "plt.ylabel(\"Precio de más bajo\")\n",
    "plt.legend()\n",
    "plt.show()"
   ]
  },
  {
   "cell_type": "markdown",
   "id": "10777703",
   "metadata": {},
   "source": [
    "Se concluye entonces que el modelo obtiene buenas predicciones iniciales y, depsués de ello, tiende a estabilizarse.\n",
    "\n",
    "Finalmente, modificaremos la función ``fun_forecast()`` para poder modificar las fechas de inicio y de fin del dataframe con la información base, de modo que podremos obtener predicciones para diferentes fechas y decidir cuánta información utilizar para las predicciones. De tal manera"
   ]
  },
  {
   "cell_type": "code",
   "execution_count": 48,
   "id": "8fc0e75e",
   "metadata": {},
   "outputs": [],
   "source": [
    "def fun_forecast_x(fecha_inicio, fecha_fin, n=3):\n",
    "    \"\"\"Función para realizar el pronóstico de los precios de apertura, cierre,\n",
    "    los precios más altos y bajos en un día de las acciones de Google.\n",
    "    La función recibe como parámetro un número entero n referente al número de\n",
    "    períodos a pronósticar y retorna un dataframe con toda la información.\"\"\"\n",
    "    # Copia del dataframe original\n",
    "    data_0 = goog.history(interval='1d', start=fecha_inicio, end=fecha_fin)\n",
    "    data_0 = data_0.reset_index()\n",
    "    data_0 = data_0[[\"Date\", \"Open\", \"High\", \"Low\", \"Close\"]]\n",
    "    \n",
    "    # Controlamos posible error\n",
    "    if (n > 0) and (type(n) == type(0)):\n",
    "        for i in range(n):\n",
    "            # --------------------------------------------------------------------\n",
    "            # CREACION DEL DATAFRAME CON LA INFORMACION DESFASADA PARA REALIZAR LA\n",
    "            # PREDICCION.\n",
    "            # Los precios de apertura parten del indice 1 (omitimos la primera\n",
    "            # observacion de indice 0)\n",
    "            data_p = pd.DataFrame(data_0.loc[1: , \"Open\"]).reset_index()\n",
    "            # El resto de la informacion parte del primer indice, pero no contempla\n",
    "            # el ultimo\n",
    "            data_p[\"High\"] = data_0.loc[0:len(data_0)-2, \"High\"]\n",
    "            data_p[\"Low\"] = data_0.loc[0:len(data_0)-2, \"Low\"]\n",
    "            data_p[\"Close\"] = data_0.loc[0:len(data_0)-2, \"Close\"]\n",
    "            data_p = data_p.drop(\"index\", axis=1)\n",
    "\n",
    "            # --------------------------------------------------------------------\n",
    "            # PREDICCION DE LOS PRECIOS PARA EL DIA SIGUIENTE\n",
    "            pred_close = prediccion_pred([\"High\", \"Low\", \"Open\"], \"Close\", data_0, data_p)\n",
    "            pred_low = prediccion_pred([\"High\", \"Open\", \"Close\"], \"Low\", data_0, data_p)\n",
    "            pred_high = prediccion_pred([\"Open\", \"Low\", \"Close\"], \"High\", data_0, data_p)\n",
    "            pred_open = prediccion_pred([\"High\", \"Low\", \"Close\"], \"Open\", data_0, data_p)\n",
    "\n",
    "            # --------------------------------------------------------------------\n",
    "            # CREAMOS UN DATAFRAME CON LA INFORMACION OBTENIDA ANTES\n",
    "            cad_aux = \"t + \" + str(i)\n",
    "            info_nueva = pd.DataFrame([cad_aux, pred_open, pred_high, pred_low, pred_close]).transpose()\n",
    "            info_nueva = info_nueva.rename(columns={0: \"Date\", 1: \"Open\", 2: \"High\", 3: \"Low\", 4: \"Close\"})\n",
    "            info_nueva = info_nueva.rename(index={0: len(data_0)})\n",
    "            # AGREGAMOS LA INFORMACION NUEVA AL DATAFRAME BASE\n",
    "            data_0 = pd.concat([data_0, info_nueva])\n",
    "            \n",
    "        # Graficamos los precios de apertura\n",
    "        plt.figure(figsize=(14,4))\n",
    "        plt.plot(np.arange(len(data_0)-100, len(data_0)-n), \n",
    "                 data_o[\"Open\"][len(data_0)-100:len(data_0)-n], color='darkblue', \n",
    "                 label='Valor real')\n",
    "        plt.plot(np.arange(len(data_0)-n-1, len(data_0)), \n",
    "                 data_10[\"Open\"][len(data_0)-n-1: len(data_0)], color='red', \n",
    "                 label='Predicción')\n",
    "        plt.title(f\"Predicción a {n} tiempos futuros\", size=16)\n",
    "        plt.ylabel(\"Precio de apertura\")\n",
    "        plt.legend()\n",
    "        plt.show()\n",
    "\n",
    "        # Retornamos el dataframe con la información nueva\n",
    "        return data_0\n",
    "    else:\n",
    "        return \"n debe ser un entero positivo\""
   ]
  },
  {
   "cell_type": "markdown",
   "id": "16c954b0",
   "metadata": {},
   "source": [
    "El día de hoy en que acabamos este proyecto es:"
   ]
  },
  {
   "cell_type": "code",
   "execution_count": 52,
   "id": "93fffb5d",
   "metadata": {},
   "outputs": [
    {
     "name": "stdout",
     "output_type": "stream",
     "text": [
      "2023-02-15 08:27:12.558019\n"
     ]
    }
   ],
   "source": [
    "import datetime\n",
    "\n",
    "hora_actual = datetime.datetime.now()\n",
    "print(hora_actual)"
   ]
  },
  {
   "cell_type": "markdown",
   "id": "e1350441",
   "metadata": {},
   "source": [
    "Lo que haremos será realizar un pronóstico de los precios de apertura de los tres días siguientes a la fecha actual "
   ]
  },
  {
   "cell_type": "code",
   "execution_count": 50,
   "id": "4004758d",
   "metadata": {
    "scrolled": true
   },
   "outputs": [
    {
     "data": {
      "image/png": "[encoded data removed]",
      "text/plain": [
       "<Figure size 1008x288 with 1 Axes>"
      ]
     },
     "metadata": {
      "needs_background": "light"
     },
     "output_type": "display_data"
    }
   ],
   "source": [
    "# Probamos \n",
    "df_f_1 = fun_forecast_x('2016-01-01', '2022-02-15')"
   ]
  },
  {
   "cell_type": "code",
   "execution_count": 51,
   "id": "ee5035c1",
   "metadata": {},
   "outputs": [
    {
     "data": {
      "text/html": [
       "<div>\n",
       "<style scoped>\n",
       "    .dataframe tbody tr th:only-of-type {\n",
       "        vertical-align: middle;\n",
       "    }\n",
       "\n",
       "    .dataframe tbody tr th {\n",
       "        vertical-align: top;\n",
       "    }\n",
       "\n",
       "    .dataframe thead th {\n",
       "        text-align: right;\n",
       "    }\n",
       "</style>\n",
       "<table border=\"1\" class=\"dataframe\">\n",
       "  <thead>\n",
       "    <tr style=\"text-align: right;\">\n",
       "      <th></th>\n",
       "      <th>Date</th>\n",
       "      <th>Open</th>\n",
       "      <th>High</th>\n",
       "      <th>Low</th>\n",
       "      <th>Close</th>\n",
       "    </tr>\n",
       "  </thead>\n",
       "  <tbody>\n",
       "    <tr>\n",
       "      <th>1534</th>\n",
       "      <td>2022-02-04 00:00:00</td>\n",
       "      <td>143.016998</td>\n",
       "      <td>144.535248</td>\n",
       "      <td>139.817505</td>\n",
       "      <td>143.016006</td>\n",
       "    </tr>\n",
       "    <tr>\n",
       "      <th>1535</th>\n",
       "      <td>2022-02-07 00:00:00</td>\n",
       "      <td>143.709</td>\n",
       "      <td>143.846497</td>\n",
       "      <td>138.699005</td>\n",
       "      <td>138.938004</td>\n",
       "    </tr>\n",
       "    <tr>\n",
       "      <th>1536</th>\n",
       "      <td>2022-02-08 00:00:00</td>\n",
       "      <td>138.991257</td>\n",
       "      <td>139.837097</td>\n",
       "      <td>136.873001</td>\n",
       "      <td>139.212997</td>\n",
       "    </tr>\n",
       "    <tr>\n",
       "      <th>1537</th>\n",
       "      <td>2022-02-09 00:00:00</td>\n",
       "      <td>140.849747</td>\n",
       "      <td>142.175507</td>\n",
       "      <td>140.376999</td>\n",
       "      <td>141.453003</td>\n",
       "    </tr>\n",
       "    <tr>\n",
       "      <th>1538</th>\n",
       "      <td>2022-02-10 00:00:00</td>\n",
       "      <td>139.5</td>\n",
       "      <td>141.431</td>\n",
       "      <td>138.050003</td>\n",
       "      <td>138.602493</td>\n",
       "    </tr>\n",
       "    <tr>\n",
       "      <th>1539</th>\n",
       "      <td>2022-02-11 00:00:00</td>\n",
       "      <td>138.75</td>\n",
       "      <td>139.283249</td>\n",
       "      <td>133.288498</td>\n",
       "      <td>134.130005</td>\n",
       "    </tr>\n",
       "    <tr>\n",
       "      <th>1540</th>\n",
       "      <td>2022-02-14 00:00:00</td>\n",
       "      <td>133.365494</td>\n",
       "      <td>136.166504</td>\n",
       "      <td>133.302002</td>\n",
       "      <td>135.300003</td>\n",
       "    </tr>\n",
       "    <tr>\n",
       "      <th>1541</th>\n",
       "      <td>t + 0</td>\n",
       "      <td>135.41008</td>\n",
       "      <td>136.283879</td>\n",
       "      <td>133.816366</td>\n",
       "      <td>134.343276</td>\n",
       "    </tr>\n",
       "    <tr>\n",
       "      <th>1542</th>\n",
       "      <td>t + 1</td>\n",
       "      <td>134.429376</td>\n",
       "      <td>135.954547</td>\n",
       "      <td>133.218332</td>\n",
       "      <td>135.100347</td>\n",
       "    </tr>\n",
       "    <tr>\n",
       "      <th>1543</th>\n",
       "      <td>t + 2</td>\n",
       "      <td>135.18711</td>\n",
       "      <td>136.216182</td>\n",
       "      <td>133.655371</td>\n",
       "      <td>134.499407</td>\n",
       "    </tr>\n",
       "  </tbody>\n",
       "</table>\n",
       "</div>"
      ],
      "text/plain": [
       "                     Date        Open        High         Low       Close\n",
       "1534  2022-02-04 00:00:00  143.016998  144.535248  139.817505  143.016006\n",
       "1535  2022-02-07 00:00:00     143.709  143.846497  138.699005  138.938004\n",
       "1536  2022-02-08 00:00:00  138.991257  139.837097  136.873001  139.212997\n",
       "1537  2022-02-09 00:00:00  140.849747  142.175507  140.376999  141.453003\n",
       "1538  2022-02-10 00:00:00       139.5     141.431  138.050003  138.602493\n",
       "1539  2022-02-11 00:00:00      138.75  139.283249  133.288498  134.130005\n",
       "1540  2022-02-14 00:00:00  133.365494  136.166504  133.302002  135.300003\n",
       "1541                t + 0   135.41008  136.283879  133.816366  134.343276\n",
       "1542                t + 1  134.429376  135.954547  133.218332  135.100347\n",
       "1543                t + 2   135.18711  136.216182  133.655371  134.499407"
      ]
     },
     "execution_count": 51,
     "metadata": {},
     "output_type": "execute_result"
    }
   ],
   "source": [
    "df_f_1.tail(10)"
   ]
  }
 ],
 "metadata": {
  "kernelspec": {
   "display_name": "Python 3 (ipykernel)",
   "language": "python",
   "name": "python3"
  },
  "language_info": {
   "codemirror_mode": {
    "name": "ipython",
    "version": 3
   },
   "file_extension": ".py",
   "mimetype": "text/x-python",
   "name": "python",
   "nbconvert_exporter": "python",
   "pygments_lexer": "ipython3",
   "version": "3.9.7"
  }
 },
 "nbformat": 4,
 "nbformat_minor": 5
}
